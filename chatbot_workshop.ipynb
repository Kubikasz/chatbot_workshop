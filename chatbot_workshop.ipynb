{
  "nbformat": 4,
  "nbformat_minor": 0,
  "metadata": {
    "colab": {
      "provenance": [],
      "toc_visible": true,
      "authorship_tag": "ABX9TyO3IFMHUPtM1nXsKLKMcWc6",
      "include_colab_link": true
    },
    "kernelspec": {
      "name": "python3",
      "display_name": "Python 3"
    },
    "language_info": {
      "name": "python"
    }
  },
  "cells": [
    {
      "cell_type": "markdown",
      "metadata": {
        "id": "view-in-github",
        "colab_type": "text"
      },
      "source": [
        "<a href=\"https://colab.research.google.com/github/Kubikasz/chatbot_workshop/blob/main/chatbot_workshop.ipynb\" target=\"_parent\"><img src=\"https://colab.research.google.com/assets/colab-badge.svg\" alt=\"Open In Colab\"/></a>"
      ]
    },
    {
      "cell_type": "markdown",
      "source": [],
      "metadata": {
        "id": "efBVNC3jM_-t"
      }
    },
    {
      "cell_type": "markdown",
      "source": [
        "# Създаване на основен чатбот\n",
        "Добре дошли в този уъркшоп за създаване на прост чатбот. Днес ще създадем базов чатбот използвайки Python и библиотеката ChatterBot.\n"
      ],
      "metadata": {
        "id": "nNU-IV80OX2h"
      }
    },
    {
      "cell_type": "markdown",
      "source": [
        "## Стъпка 1: Импортиране на Пакети\n",
        "Нека импортираме необходимите Python пакети, за да започнем.\n"
      ],
      "metadata": {
        "id": "1XpGGN1HOh7q"
      }
    },
    {
      "cell_type": "markdown",
      "source": [
        "## Стъпка 2: Инициализация на Чатбота\n",
        "Ще инициализираме нашия чатбот и ще го наречем \"WorkshopBot\".\n"
      ],
      "metadata": {
        "id": "afOEvyvXOk0y"
      }
    },
    {
      "cell_type": "markdown",
      "source": [],
      "metadata": {
        "id": "mGQ3Ma8sOvQV"
      }
    },
    {
      "cell_type": "markdown",
      "source": [
        "## Стъпка 3: Обучение на Чатбота\n",
        "Ще обучим нашия чатбот използвайки данни от ChatterBot корпуса.\n"
      ],
      "metadata": {
        "id": "uKmR75E_Opan"
      }
    },
    {
      "cell_type": "markdown",
      "source": [
        "## Стъпка 4: Тестване на Чатбота\n",
        "Време е да говорим с нашия чатбот!\n"
      ],
      "metadata": {
        "id": "LO7mSKdPOyn_"
      }
    },
    {
      "cell_type": "markdown",
      "source": [
        "## Упражнение за персонализация\n",
        "Сега, когато видяхте как се създава базов чатбот, опитайте да го персонализирате. Задайте му всякакви въпроси и вижте как ще отговори!\n"
      ],
      "metadata": {
        "id": "JmavIlipO6an"
      }
    }
  ]
}